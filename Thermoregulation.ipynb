{
 "cells": [
  {
   "cell_type": "markdown",
   "metadata": {},
   "source": [
    "\\section{Thermoregulation}\n",
    "\tHomeoterm, Tasalämpöinen, Jämnvarm\tPoikiloterm, Vaihtolämpöinen, Växelvarm\n",
    "Endotherm\tmammals\tkolibir\n",
    "Ectotherm\tfish\treptiles\n",
    "\n",
    "Ectotherm, Ektoterminen, Ektoterm: An ectotherm, from the Greek εκτός (ektós) \"outside\" and θερμός (thermós) \"hot\", is an organism in which internal physiological sources of heat are of relatively small or quite negligible importance in controlling body temperature.\n",
    "Endotherm, Endotherm, Endotherm: An endotherm (Greek: endon = \"within\", thermē = \"heat\") is an organism that maintains its body at a metabolically favorable temperature, largely by the use of heat set free by its internal bodily functions instead of relying almost purely on ambient heat.\n",
    "Homeotherm: Homeothermy is thermoregulation that maintains a stable internal body temperature regardless of external influence.\n",
    "Poikilotherm: A poikilotherm is an organism whose internal temperature varies considerably. It is the opposite of a homeotherm, an organism which maintains thermal homeostasis. Usually the variation is a consequence of variation in the ambient environmental temperature.\n",
    "\n",
    "1. Insulation, Lämmöneriste, Värmeisolering\n",
    "2. Vasoconstriction, vasodilation\n",
    "3. Counter current exchange, vastavirtajärjestelmä, motströmsväxlare\n",
    "4. Evaportie loss, Haihtuminen, Avdunstning\n",
    "5. Behavioural responses, Käyttäytyminen, Beteende\n",
    "6. Heat production, Shivering, brown fat\n",
    "7. Alijäähtyminen\n",
    "8. Jäänmuodostuksen estyminen\n",
    "9. Jäädyttävät kudosnesteen ennen sytoplasmaa\n",
    "6. Bioenergetics\n",
    "Metabolic rate: the sum of energy used in biochemical reactions\n",
    "Torpor: a stet of decreased activity and metabolism\n",
    "Hibernation/estivation\n",
    "\n",
    "\n",
    "\n",
    "Päivähorros, Daily torpor\n",
    "Talvihorros, hibernation\n",
    "Ruumiinlämpötila voi laskea jopa nolla paikkeille\n",
    "Talviuni (wintersleep) "
   ]
  }
 ],
 "metadata": {
  "kernelspec": {
   "display_name": "Python 3",
   "language": "python",
   "name": "python3"
  },
  "language_info": {
   "codemirror_mode": {
    "name": "ipython",
    "version": 3
   },
   "file_extension": ".py",
   "mimetype": "text/x-python",
   "name": "python",
   "nbconvert_exporter": "python",
   "pygments_lexer": "ipython3",
   "version": "3.8.3"
  }
 },
 "nbformat": 4,
 "nbformat_minor": 4
}
